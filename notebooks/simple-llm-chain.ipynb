{
 "cells": [
  {
   "attachments": {},
   "cell_type": "markdown",
   "metadata": {},
   "source": [
    "# Simple LLM Chain"
   ]
  },
  {
   "attachments": {},
   "cell_type": "markdown",
   "metadata": {},
   "source": [
    "## Imports"
   ]
  },
  {
   "cell_type": "code",
   "execution_count": 1,
   "metadata": {},
   "outputs": [],
   "source": [
    "import os\n",
    "from dotenv import load_dotenv\n",
    "from langchain.llms import OpenAI\n",
    "from langchain.prompts import PromptTemplate\n",
    "from langchain.chains import LLMChain, SimpleSequentialChain"
   ]
  },
  {
   "attachments": {},
   "cell_type": "markdown",
   "metadata": {},
   "source": [
    "## Config"
   ]
  },
  {
   "cell_type": "code",
   "execution_count": 2,
   "metadata": {},
   "outputs": [
    {
     "data": {
      "text/plain": [
       "True"
      ]
     },
     "execution_count": 2,
     "metadata": {},
     "output_type": "execute_result"
    }
   ],
   "source": [
    "load_dotenv()"
   ]
  },
  {
   "attachments": {},
   "cell_type": "markdown",
   "metadata": {},
   "source": [
    "## LLM setup"
   ]
  },
  {
   "cell_type": "code",
   "execution_count": 3,
   "metadata": {},
   "outputs": [],
   "source": [
    "# set up some parameters of the LLM\n",
    "llm_kwargs = {\n",
    "    \"temperature\": 0.5,\n",
    "    \"model_name\": \"text-davinci-003\" # this is the default model, you can change it if you want to\n",
    "}"
   ]
  },
  {
   "cell_type": "code",
   "execution_count": 4,
   "metadata": {},
   "outputs": [],
   "source": [
    "# create LLM with kwargs specified above\n",
    "llm = OpenAI(**llm_kwargs)"
   ]
  },
  {
   "attachments": {},
   "cell_type": "markdown",
   "metadata": {},
   "source": [
    "## Chain with templates\n",
    "The output of the first chain will be passed to the second chain"
   ]
  },
  {
   "cell_type": "code",
   "execution_count": 5,
   "metadata": {},
   "outputs": [],
   "source": [
    "# get a meal, given a country\n",
    "meal_template = PromptTemplate(\n",
    "    input_variables=[\"country\"],\n",
    "    template=\"Give me the name of a popular meal that is often made in {country}\",\n",
    ")\n",
    "meal_chain = LLMChain(llm=llm, prompt=meal_template)"
   ]
  },
  {
   "cell_type": "code",
   "execution_count": 6,
   "metadata": {},
   "outputs": [],
   "source": [
    "# get a recipe, given a meal\n",
    "recipe_template = PromptTemplate(\n",
    "    input_variables=[\"meal\"],\n",
    "    template=\"Give me a short, simple recipe for making {meal}\",\n",
    ")\n",
    "recipe_chain = LLMChain(llm=llm, prompt=recipe_template)"
   ]
  },
  {
   "cell_type": "code",
   "execution_count": 7,
   "metadata": {},
   "outputs": [],
   "source": [
    "# chain together\n",
    "chain = SimpleSequentialChain(\n",
    "    chains=[\n",
    "        meal_chain,\n",
    "        recipe_chain\n",
    "    ],\n",
    "    verbose=True\n",
    ")"
   ]
  },
  {
   "attachments": {},
   "cell_type": "markdown",
   "metadata": {},
   "source": [
    "## Get response"
   ]
  },
  {
   "cell_type": "code",
   "execution_count": 8,
   "metadata": {},
   "outputs": [
    {
     "name": "stdout",
     "output_type": "stream",
     "text": [
      "\n",
      "\n",
      "\u001b[1m> Entering new SimpleSequentialChain chain...\u001b[0m\n",
      "\u001b[36;1m\u001b[1;3m\n",
      "\n",
      "Coq au vin.\u001b[0m\n",
      "\u001b[33;1m\u001b[1;3m\n",
      "\n",
      "Ingredients:\n",
      "\n",
      "-2 tablespoons olive oil\n",
      "-2 cloves garlic, minced\n",
      "-1 onion, diced\n",
      "-8 ounces mushrooms, sliced\n",
      "-1/2 teaspoon dried thyme\n",
      "-2 cups red wine\n",
      "-1 cup chicken broth\n",
      "-2 bay leaves\n",
      "-1/4 teaspoon freshly ground black pepper\n",
      "-2-3 pounds chicken thighs, skin removed\n",
      "-1/2 pound bacon, diced\n",
      "-1/2 cup frozen pearl onions\n",
      "\n",
      "Instructions:\n",
      "\n",
      "1. Heat the olive oil in a large pot over medium heat. Add the garlic, onion, mushrooms, and thyme and cook until the vegetables are softened, about 5 minutes.\n",
      "\n",
      "2. Add the red wine, chicken broth, bay leaves, and pepper and bring to a simmer.\n",
      "\n",
      "3. Add the chicken thighs and bacon and simmer for 25-30 minutes, or until the chicken is cooked through.\n",
      "\n",
      "4. Add the pearl onions and simmer for an additional 5 minutes.\n",
      "\n",
      "5. Serve with mashed potatoes or rice. Enjoy!\u001b[0m\n",
      "\n",
      "\u001b[1m> Finished chain.\u001b[0m\n"
     ]
    }
   ],
   "source": [
    "country = \"France\"\n",
    "response = chain.run(country)"
   ]
  },
  {
   "cell_type": "code",
   "execution_count": 10,
   "metadata": {},
   "outputs": [
    {
     "name": "stdout",
     "output_type": "stream",
     "text": [
      "\n",
      "\n",
      "Ingredients:\n",
      "\n",
      "-2 tablespoons olive oil\n",
      "-2 cloves garlic, minced\n",
      "-1 onion, diced\n",
      "-8 ounces mushrooms, sliced\n",
      "-1/2 teaspoon dried thyme\n",
      "-2 cups red wine\n",
      "-1 cup chicken broth\n",
      "-2 bay leaves\n",
      "-1/4 teaspoon freshly ground black pepper\n",
      "-2-3 pounds chicken thighs, skin removed\n",
      "-1/2 pound bacon, diced\n",
      "-1/2 cup frozen pearl onions\n",
      "\n",
      "Instructions:\n",
      "\n",
      "1. Heat the olive oil in a large pot over medium heat. Add the garlic, onion, mushrooms, and thyme and cook until the vegetables are softened, about 5 minutes.\n",
      "\n",
      "2. Add the red wine, chicken broth, bay leaves, and pepper and bring to a simmer.\n",
      "\n",
      "3. Add the chicken thighs and bacon and simmer for 25-30 minutes, or until the chicken is cooked through.\n",
      "\n",
      "4. Add the pearl onions and simmer for an additional 5 minutes.\n",
      "\n",
      "5. Serve with mashed potatoes or rice. Enjoy!\n"
     ]
    }
   ],
   "source": [
    "print(response)"
   ]
  },
  {
   "cell_type": "code",
   "execution_count": null,
   "metadata": {},
   "outputs": [],
   "source": []
  }
 ],
 "metadata": {
  "kernelspec": {
   "display_name": "Python 3.9.15 ('fast-api')",
   "language": "python",
   "name": "python3"
  },
  "language_info": {
   "codemirror_mode": {
    "name": "ipython",
    "version": 3
   },
   "file_extension": ".py",
   "mimetype": "text/x-python",
   "name": "python",
   "nbconvert_exporter": "python",
   "pygments_lexer": "ipython3",
   "version": "3.9.16"
  },
  "orig_nbformat": 4,
  "vscode": {
   "interpreter": {
    "hash": "0c4b7d2a752ea5cd72fa4fad695b7d5b9ae56ca1fbb95ac283018052fd2c6ff2"
   }
  }
 },
 "nbformat": 4,
 "nbformat_minor": 2
}
